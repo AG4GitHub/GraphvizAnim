{
 "cells": [
  {
   "cell_type": "markdown",
   "metadata": {},
   "source": [
    "# Using GraphvizAnim to show how heapsort works"
   ]
  },
  {
   "cell_type": "markdown",
   "metadata": {},
   "source": [
    "Import the required packages and instantiate the animation"
   ]
  },
  {
   "cell_type": "code",
   "execution_count": 1,
   "metadata": {
    "collapsed": false
   },
   "outputs": [],
   "source": [
    "from gvanim import Animation\n",
    "from gvanim.jupyter import interactive\n",
    "ga = Animation()"
   ]
  },
  {
   "cell_type": "markdown",
   "metadata": {},
   "source": [
    "Define an heap"
   ]
  },
  {
   "cell_type": "code",
   "execution_count": 2,
   "metadata": {
    "collapsed": true
   },
   "outputs": [],
   "source": [
    "heap = [ None, 5, 6, 7, 8, 9, 10, 11, 12 ]"
   ]
  },
  {
   "cell_type": "markdown",
   "metadata": {},
   "source": [
    "Now draw it (nodes will be named as the array indices and labelled as the array values)"
   ]
  },
  {
   "cell_type": "code",
   "execution_count": 3,
   "metadata": {
    "collapsed": true
   },
   "outputs": [],
   "source": [
    "ga.label_node( 1, heap[ 1 ] )\n",
    "for i in range( 2, len( heap ) ):\n",
    "    ga.label_node( i, heap[ i ] )\n",
    "    ga.add_edge( i / 2, i )"
   ]
  },
  {
   "cell_type": "markdown",
   "metadata": {},
   "source": [
    "Define the usual iterative down heap procedure (endowed with animation actions)"
   ]
  },
  {
   "cell_type": "code",
   "execution_count": 4,
   "metadata": {
    "collapsed": true
   },
   "outputs": [],
   "source": [
    "def down_heap( i, n ):\n",
    "    t = heap[ i ]\n",
    "    while i <= n/2:\n",
    "        ga.highlight_node( i )\n",
    "        ga.next_step()\n",
    "        j = 2 * i\n",
    "        if j < n and heap[ j ] < heap[ j + 1 ]: j += 1\n",
    "        ga.highlight_edge( i, j )    \n",
    "        ga.next_step()\n",
    "        if t >= heap[ j ]: break\n",
    "        heap[ i ] = heap[ j ]\n",
    "        ga.highlight_node( i )\n",
    "        ga.highlight_node( j )\n",
    "        ga.label_node( i, heap[ i ] )\n",
    "        ga.label_node( j, heap[ j ] )             \n",
    "        ga.next_step()\n",
    "        i = j\n",
    "    heap[ i ] = t\n",
    "    ga.highlight_node( i )\n",
    "    ga.label_node( i, heap[ i ] )\n",
    "    ga.next_step()"
   ]
  },
  {
   "cell_type": "markdown",
   "metadata": {},
   "source": [
    "Fix the heap calling `down_heap` on his lower half"
   ]
  },
  {
   "cell_type": "code",
   "execution_count": 5,
   "metadata": {
    "collapsed": true
   },
   "outputs": [],
   "source": [
    "n = len( heap ) - 1\n",
    "ga.next_step()\n",
    "for i in range( n / 2, 0, -1 ):\n",
    "    down_heap( i, n )"
   ]
  },
  {
   "cell_type": "markdown",
   "metadata": {},
   "source": [
    "And finally exchange the top with heap positions starting form the last one (fixing again with `down_heap`)"
   ]
  },
  {
   "cell_type": "code",
   "execution_count": 6,
   "metadata": {
    "collapsed": true
   },
   "outputs": [],
   "source": [
    "ga.next_step()\n",
    "while n > 1:\n",
    "    heap[ 1 ], heap[ n ] = heap[ n ], heap[ 1 ]\n",
    "    ga.highlight_node( 1 )\n",
    "    ga.highlight_node( n )\n",
    "    ga.label_node( 1, heap[ 1 ] )\n",
    "    ga.label_node( n, heap[ n ] )             \n",
    "    ga.next_step()\n",
    "    n -= 1\n",
    "    down_heap( 1, n )"
   ]
  },
  {
   "cell_type": "markdown",
   "metadata": {},
   "source": [
    "We are ready to plot the animation interactively! \n",
    "\n",
    "Be patient: to generate the required 67 graphs will take quite a bit of time; moreover, in case Jupyter does not correctly resize the cell just zoom in and out the document size (with the browser)."
   ]
  },
  {
   "cell_type": "code",
   "execution_count": 7,
   "metadata": {
    "collapsed": false
   },
   "outputs": [
    {
     "data": {
      "image/png": "[encoded data removed]",
      "text/plain": [
       "<IPython.core.display.Image object>"
      ]
     },
     "metadata": {},
     "output_type": "display_data"
    }
   ],
   "source": [
    "interactive( ga, 400 )    "
   ]
  }
 ],
 "metadata": {
  "kernelspec": {
   "display_name": "Python 2",
   "language": "python2",
   "name": "python2"
  },
  "language_info": {
   "codemirror_mode": {
    "name": "ipython",
    "version": 2
   },
   "file_extension": ".py",
   "mimetype": "text/x-python",
   "name": "python",
   "nbconvert_exporter": "python",
   "pygments_lexer": "ipython2",
   "version": "2.7.11"
  }
 },
 "nbformat": 4,
 "nbformat_minor": 0
}
